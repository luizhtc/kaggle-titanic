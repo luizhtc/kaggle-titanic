{
 "cells": [
  {
   "cell_type": "code",
   "execution_count": 3,
   "id": "48c5d265",
   "metadata": {},
   "outputs": [
    {
     "name": "stdout",
     "output_type": "stream",
     "text": [
      "Hello, world!\n"
     ]
    }
   ],
   "source": [
    "print(\"Hello, world!\")"
   ]
  },
  {
   "cell_type": "code",
   "execution_count": null,
   "id": "c66bee36",
   "metadata": {},
   "outputs": [
    {
     "name": "stdout",
     "output_type": "stream",
     "text": [
      "ref                                                                     deadline             category            reward  teamCount  userHasEntered  \n",
      "----------------------------------------------------------------------  -------------------  ---------------  ---------  ---------  --------------  \n",
      "https://www.kaggle.com/competitions/titanic                             2030-01-01 00:00:00  Getting Started  Knowledge      13453            True  \n",
      "https://www.kaggle.com/competitions/spaceship-titanic                   2030-01-01 00:00:00  Getting Started  Knowledge       1651            True  \n",
      "https://www.kaggle.com/competitions/tutorial-competition-for-beginners  2025-12-31 23:59:00  Community            Kudos        685           False  \n",
      "https://www.kaggle.com/competitions/aiaa-soobi-titanic                  2030-11-07 23:59:00  Community            Kudos         92           False  \n",
      "https://www.kaggle.com/competitions/ulsu-titanic-comp                   2070-01-01 23:59:00  Community            Kudos         85           False  \n",
      "https://www.kaggle.com/competitions/titanic-privat                      2030-12-31 23:59:00  Community            Kudos         77           False  \n",
      "https://www.kaggle.com/competitions/titanic-machine-learning-u-lima     2025-12-01 05:00:00  Community            Kudos         27           False  \n",
      "https://www.kaggle.com/competitions/hselyc181018                        2100-10-17 23:59:00  Community            Kudos         17           False  \n",
      "https://www.kaggle.com/competitions/another-titanics                    2030-12-05 23:59:00  Community            Kudos         13           False  \n"
     ]
    }
   ],
   "source": [
    "from kaggle.api.kaggle_api_extended import KaggleApi\n",
    "api = KaggleApi()\n",
    "api.authenticate()\n",
    "api.competitions_list(search=\"titanic\")\n",
    "# api.competition_download_files(\"titanic\", path=\"../data\")"
   ]
  },
  {
   "cell_type": "code",
   "execution_count": null,
   "id": "7e4c4d84",
   "metadata": {},
   "outputs": [],
   "source": []
  }
 ],
 "metadata": {
  "kernelspec": {
   "display_name": ".venv",
   "language": "python",
   "name": "python3"
  },
  "language_info": {
   "codemirror_mode": {
    "name": "ipython",
    "version": 3
   },
   "file_extension": ".py",
   "mimetype": "text/x-python",
   "name": "python",
   "nbconvert_exporter": "python",
   "pygments_lexer": "ipython3",
   "version": "3.11.9"
  }
 },
 "nbformat": 4,
 "nbformat_minor": 5
}
